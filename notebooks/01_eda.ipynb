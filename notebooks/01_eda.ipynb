{
 "cells": [
  {
   "cell_type": "code",
   "execution_count": 1,
   "metadata": {},
   "outputs": [],
   "source": [
    "import pandas as pd\n",
    "import numpy as np\n",
    "from pathlib import Path\n",
    "\n",
    "# Importujemy dane\n",
    "BASE_DIR = Path.cwd().parent\n",
    "train_data = pd.read_csv(BASE_DIR / 'data/external/train.csv')\n",
    "test_data = pd.read_csv(BASE_DIR / 'data/external/test.csv')\n"
   ]
  },
  {
   "cell_type": "code",
   "execution_count": 2,
   "metadata": {},
   "outputs": [],
   "source": [
    "# Uzupełnianie Age medianą w grupach\n",
    "train_data['Age'] = train_data.groupby(['Pclass', 'Sex'])['Age'].transform(lambda x: x.fillna(x.median()))\n",
    "test_data['Age'] = test_data.groupby(['Pclass', 'Sex'])['Age'].transform(lambda x: x.fillna(x.median()))\n",
    "\n",
    "# Uzupełnianie Embarked najczęstszą wartością\n",
    "train_data['Embarked'] = train_data['Embarked'].fillna(train_data['Embarked'].mode()[0])\n",
    "test_data['Embarked'] = test_data['Embarked'].fillna(test_data['Embarked'].mode()[0])\n",
    "\n",
    "# Uzupełnianie Fare medianą\n",
    "test_data['Fare'] = test_data['Fare'].fillna(test_data['Fare'].median())\n",
    "\n",
    "# Tworzenie HasCabin\n",
    "train_data['HasCabin'] = train_data['Cabin'].apply(lambda x: 0 if pd.isnull(x) else 1)\n",
    "test_data['HasCabin'] = test_data['Cabin'].apply(lambda x: 0 if pd.isnull(x) else 1)\n"
   ]
  },
  {
   "cell_type": "code",
   "execution_count": 3,
   "metadata": {},
   "outputs": [],
   "source": [
    "# Tworzenie grup wiekowych\n",
    "age_bins = [0, 10, 19, 35, 60, 120]\n",
    "age_labels = ['Child', 'Teenager', 'Adult', 'Middle-aged', 'Senior']\n",
    "train_data['AgeGroup'] = pd.cut(train_data['Age'], bins=age_bins, labels=age_labels)\n",
    "test_data['AgeGroup'] = pd.cut(test_data['Age'], bins=age_bins, labels=age_labels)\n",
    "\n",
    "# Tworzenie grup cenowych\n",
    "fare_bins = [-1, 0, 20, 50, 100, 300, 600]\n",
    "fare_labels = ['Free', 'Very Low', 'Low', 'Medium', 'High', 'Very High']\n",
    "train_data['FareGroup'] = pd.cut(train_data['Fare'], bins=fare_bins, labels=fare_labels)\n",
    "test_data['FareGroup'] = pd.cut(test_data['Fare'], bins=fare_bins, labels=fare_labels)         \n"
   ]
  },
  {
   "cell_type": "code",
   "execution_count": 4,
   "metadata": {},
   "outputs": [],
   "source": [
    "# Kodowanie płci\n",
    "train_data['Sex'] = train_data['Sex'].map({'male': 0, 'female': 1})\n",
    "test_data['Sex'] = test_data['Sex'].map({'male': 0, 'female': 1})\n",
    "\n",
    "# One-hot encoding dla Embarked\n",
    "train_data = pd.get_dummies(train_data, columns=['Embarked'], drop_first=True)\n",
    "test_data = pd.get_dummies(test_data, columns=['Embarked'], drop_first=True)\n",
    "\n",
    "# Kodowanie grup wiekowych\n",
    "age_group_map = {'Child': 0, 'Teenager': 1, 'Adult': 2, 'Middle-aged': 3, 'Senior': 4}\n",
    "train_data['AgeGroup'] = train_data['AgeGroup'].map(age_group_map)\n",
    "test_data['AgeGroup'] = test_data['AgeGroup'].map(age_group_map)\n",
    "\n",
    "# Kodowanie grup cenowych\n",
    "fare_group_map = {'Free': 0, 'Very Low': 1, 'Low': 2, 'Medium': 3, 'High': 4, 'Very High': 5}\n",
    "train_data['FareGroup'] = train_data['FareGroup'].map(fare_group_map)\n",
    "test_data['FareGroup'] = test_data['FareGroup'].map(fare_group_map)\n"
   ]
  },
  {
   "cell_type": "code",
   "execution_count": null,
   "metadata": {},
   "outputs": [],
   "source": [
    "print(\"Missing values after processing (train):\")\n",
    "print(train_data.isnull().sum())\n",
    "\n",
    "print(\"\\nMissing values after processing (test):\")\n",
    "print(test_data.isnull().sum())"
   ]
  },
  {
   "cell_type": "code",
   "execution_count": null,
   "metadata": {},
   "outputs": [],
   "source": [
    "train_data"
   ]
  },
  {
   "cell_type": "code",
   "execution_count": null,
   "metadata": {},
   "outputs": [],
   "source": [
    "# Rozkład płci\n",
    "print(\"Distribution of Sex:\")\n",
    "print(train_data['Sex'].value_counts())\n",
    "\n",
    "# Rozkład grup wiekowych\n",
    "print(\"\\nDistribution of AgeGroup:\")\n",
    "print(train_data['AgeGroup'].value_counts())\n",
    "\n",
    "# Rozkład grup cenowych\n",
    "print(\"\\nDistribution of FareGroup:\")\n",
    "print(train_data['FareGroup'].value_counts())\n",
    "\n",
    "# Rozkład portów zaokrętowania\n",
    "print(\"\\nDistribution of Embarked:\")\n",
    "print(train_data[['Embarked_Q', 'Embarked_S']].sum())\n"
   ]
  }
 ],
 "metadata": {
  "kernelspec": {
   "display_name": "titanic_ml",
   "language": "python",
   "name": "python3"
  },
  "language_info": {
   "codemirror_mode": {
    "name": "ipython",
    "version": 3
   },
   "file_extension": ".py",
   "mimetype": "text/x-python",
   "name": "python",
   "nbconvert_exporter": "python",
   "pygments_lexer": "ipython3",
   "version": "3.11.11"
  }
 },
 "nbformat": 4,
 "nbformat_minor": 2
}
